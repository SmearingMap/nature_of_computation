{
 "cells": [
  {
   "cell_type": "markdown",
   "metadata": {},
   "source": [
    "# Chapter 3: Insights and Algorithms\n",
    "\n",
    "## Some strategies for solving problems\n",
    "\n",
    "\n",
    "**Divide and conquer:** breaking problems into smaller subproblems\n",
    "\n",
    "**Dynamic programming:** save time by remembering subproblems we've already solved as we go (dynamically)\n",
    "\n",
    "**Greedy algorithms:** start with a bad solution and make greedy local modifications to improve it\n",
    "\n",
    "**Duality:** recognizing that two optimization problems have the same solution\n",
    "\n",
    "**Reductions:** transforming one problem into another which we know how to solve"
   ]
  },
  {
   "cell_type": "markdown",
   "metadata": {},
   "source": [
    "## Recursion\n",
    "\n",
    "### Example: Towers of Hanoi\n",
    "\n",
    "There are three pegs.  On one of the pegs are N discs stacked from largest to smallest.  The problem is to move all the discs to another peg with the constraints 1) that the discs must always be stacked from smallest to largest and 2) only one disc may be moved at a time.  How can we do this?\n",
    "\n",
    "We can exploit the *recursive* structure of the problem.  To solve the problem for $N$ discs, we need to first solve the problem for $N-1$ discs, then move the biggest peg, and then solve the problem for $N-1$ discs again.  This means that the number of operations we need to make obeys the recurrence relation:\n",
    "\n",
    "$$f(n) = 2f(n-1) + 1$$\n",
    "\n",
    "It is easy to see asymptotically that we need to make about $2^n$ operations -- the exact number is $2^n - 1$, which is easy to show with induction with base case zero (exercise 3.1).\n",
    "\n",
    "\n",
    "### Run-time analysis\n",
    "\n",
    "In Python, elementary steps take on the order of microseconds.  Assuming that the elementary step is addition in Python (it's not), we could solve the towers of hanoi problem for 34 pegs in one day.  In general if we have an elementary step that takes $\\Delta t$ seconds, the size of the problem that we can solve in time $T$ is\n",
    "\n",
    "$$ n = \\log_2{\\frac{T}{\\Delta t}} $$\n",
    "\n",
    "## Divide and conquer\n",
    "\n",
    "### Mergesort\n",
    "\n",
    "Divide the list into two lists.  Sort the lists.  Initialize a third empty list add the smallest of the two from the heads of the two lists to the new one.  Continue on this way until the two lists are empty.\n",
    "\n",
    "Let $T(n)$ be the number of comparisons.\n",
    "\n",
    "We'll need $2T(n/2)$ comparisons for the initial sorting step.  Then we need at least $n/2$ but no more than $n$ comparisons in the merge step.  So we get the functional equation\n",
    "\n",
    "$$T(n) = 2T(n/2) + n$$\n",
    "\n",
    "Now $T(1)$ = 0."
   ]
  },
  {
   "cell_type": "code",
   "execution_count": 113,
   "metadata": {},
   "outputs": [],
   "source": [
    "def mergesort(L):\n",
    "    if len(L) <= 1:\n",
    "        return L\n",
    "    pos = int( len(L) / 2 )\n",
    "    L1, L2 = mergesort(L[:pos]), mergesort(L[pos:])\n",
    "    return merge(L1, L2)\n",
    "\n",
    "def merge(L1, L2):\n",
    "    if len(L1) == 0:\n",
    "        return L2\n",
    "    elif len(L2) == 0:\n",
    "        return L1\n",
    "    if L1[0] < L2[0]:\n",
    "        return [L1[0]] + merge(L1[1:], L2)\n",
    "    else:\n",
    "        return [L2[0]] + merge(L1, L2[1:])\n",
    "    \n",
    "    \n",
    "def quicksort(L):\n",
    "    if len(L) == 0:\n",
    "        return L\n",
    "    p = L[0]\n",
    "    return quicksort([l for l in L[1:] if l < p]) \\\n",
    "           + [p] \\\n",
    "           + quicksort([l for l in L[1:] if l >= p])"
   ]
  },
  {
   "cell_type": "code",
   "execution_count": 114,
   "metadata": {},
   "outputs": [
    {
     "name": "stdout",
     "output_type": "stream",
     "text": [
      "True\n",
      "True\n"
     ]
    }
   ],
   "source": [
    "L = [45,1,2,3,5,1,3,1,1,2,0]\n",
    "print(quicksort(L) == sorted(L))\n",
    "print(mergesort(L) == sorted(L))"
   ]
  }
 ],
 "metadata": {
  "kernelspec": {
   "display_name": "Python 3",
   "language": "python",
   "name": "python3"
  },
  "language_info": {
   "codemirror_mode": {
    "name": "ipython",
    "version": 3
   },
   "file_extension": ".py",
   "mimetype": "text/x-python",
   "name": "python",
   "nbconvert_exporter": "python",
   "pygments_lexer": "ipython3",
   "version": "3.6.4"
  }
 },
 "nbformat": 4,
 "nbformat_minor": 2
}
